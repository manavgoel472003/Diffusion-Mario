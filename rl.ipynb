{
 "cells": [
  {
   "cell_type": "markdown",
   "metadata": {},
   "source": [
    "## Setup Env\n"
   ]
  },
  {
   "cell_type": "code",
   "execution_count": 1,
   "metadata": {},
   "outputs": [
    {
     "name": "stderr",
     "output_type": "stream",
     "text": [
      "ERROR: unknown command \"gym_super_mario_bros\"\n",
      "\n"
     ]
    }
   ],
   "source": [
    "! pip gym_super_mario_bros --version"
   ]
  },
  {
   "cell_type": "code",
   "execution_count": 2,
   "metadata": {},
   "outputs": [
    {
     "name": "stdout",
     "output_type": "stream",
     "text": [
      "Requirement already satisfied: gym_super_mario_bros==7.3.0 in c:\\users\\manav\\miniconda3\\envs\\ml\\lib\\site-packages (7.3.0)\n",
      "Requirement already satisfied: nes_py in c:\\users\\manav\\miniconda3\\envs\\ml\\lib\\site-packages (8.2.1)\n",
      "Requirement already satisfied: gym>=0.17.2 in c:\\users\\manav\\miniconda3\\envs\\ml\\lib\\site-packages (from nes_py) (0.26.2)\n",
      "Requirement already satisfied: numpy>=1.18.5 in c:\\users\\manav\\miniconda3\\envs\\ml\\lib\\site-packages (from nes_py) (1.26.4)\n",
      "Requirement already satisfied: pyglet<=1.5.21,>=1.4.0 in c:\\users\\manav\\miniconda3\\envs\\ml\\lib\\site-packages (from nes_py) (1.5.21)\n",
      "Requirement already satisfied: tqdm>=4.48.2 in c:\\users\\manav\\miniconda3\\envs\\ml\\lib\\site-packages (from nes_py) (4.67.0)\n",
      "Requirement already satisfied: cloudpickle>=1.2.0 in c:\\users\\manav\\miniconda3\\envs\\ml\\lib\\site-packages (from gym>=0.17.2->nes_py) (3.1.0)\n",
      "Requirement already satisfied: gym-notices>=0.0.4 in c:\\users\\manav\\miniconda3\\envs\\ml\\lib\\site-packages (from gym>=0.17.2->nes_py) (0.0.8)\n",
      "Requirement already satisfied: colorama in c:\\users\\manav\\miniconda3\\envs\\ml\\lib\\site-packages (from tqdm>=4.48.2->nes_py) (0.4.6)\n"
     ]
    }
   ],
   "source": [
    "! pip install gym_super_mario_bros==7.3.0 nes_py\n",
    "# ! pip install lz4\n"
   ]
  },
  {
   "cell_type": "code",
   "execution_count": 3,
   "metadata": {},
   "outputs": [],
   "source": [
    "from nes_py.wrappers import JoypadSpace\n",
    "import gym_super_mario_bros\n",
    "from gym_super_mario_bros.actions import SIMPLE_MOVEMENT,  RIGHT_ONLY\n",
    "import gym"
   ]
  },
  {
   "cell_type": "code",
   "execution_count": 4,
   "metadata": {},
   "outputs": [
    {
     "data": {
      "text/plain": [
       "[['NOOP'],\n",
       " ['right'],\n",
       " ['right', 'A'],\n",
       " ['right', 'B'],\n",
       " ['right', 'A', 'B'],\n",
       " ['A'],\n",
       " ['left']]"
      ]
     },
     "execution_count": 4,
     "metadata": {},
     "output_type": "execute_result"
    }
   ],
   "source": [
    "SIMPLE_MOVEMENT"
   ]
  },
  {
   "cell_type": "code",
   "execution_count": 5,
   "metadata": {},
   "outputs": [
    {
     "name": "stderr",
     "output_type": "stream",
     "text": [
      "c:\\Users\\manav\\miniconda3\\envs\\ML\\lib\\site-packages\\gym\\envs\\registration.py:555: UserWarning: \u001b[33mWARN: The environment SuperMarioBros-v0 is out of date. You should consider upgrading to version `v3`.\u001b[0m\n",
      "  logger.warn(\n",
      "c:\\Users\\manav\\miniconda3\\envs\\ML\\lib\\site-packages\\gym\\envs\\registration.py:627: UserWarning: \u001b[33mWARN: The environment creator metadata doesn't include `render_modes`, contains: ['render.modes', 'video.frames_per_second']\u001b[0m\n",
      "  logger.warn(\n"
     ]
    }
   ],
   "source": [
    "env = gym.make('SuperMarioBros-v0', apply_api_compatibility=True, render_mode=\"human\")\n",
    "env = JoypadSpace(env, SIMPLE_MOVEMENT)"
   ]
  },
  {
   "cell_type": "code",
   "execution_count": 6,
   "metadata": {},
   "outputs": [
    {
     "data": {
      "text/plain": [
       "(240, 256, 3)"
      ]
     },
     "execution_count": 6,
     "metadata": {},
     "output_type": "execute_result"
    }
   ],
   "source": [
    "# Look at observation space\n",
    "env.observation_space.shape\n",
    "# essentially the game, frame of the game"
   ]
  },
  {
   "cell_type": "code",
   "execution_count": 7,
   "metadata": {},
   "outputs": [
    {
     "data": {
      "text/plain": [
       "Discrete(7)"
      ]
     },
     "execution_count": 7,
     "metadata": {},
     "output_type": "execute_result"
    }
   ],
   "source": [
    "# Action space is alos important\n",
    "env.action_space"
   ]
  },
  {
   "cell_type": "code",
   "execution_count": 8,
   "metadata": {},
   "outputs": [],
   "source": [
    "done = False\n",
    "# env.reset()"
   ]
  },
  {
   "cell_type": "code",
   "execution_count": 9,
   "metadata": {},
   "outputs": [],
   "source": [
    "# done = False\n",
    "# env.reset()\n",
    "# while not done:\n",
    "#     action = env.action_space.sample()\n",
    "#     _, _, done, _, _ = env.step(action)\n",
    "#     # done = terminated or truncated\n",
    "\n",
    "#     # if done:\n",
    "#     #    env.reset()\n",
    "\n",
    "# env.close()"
   ]
  },
  {
   "cell_type": "code",
   "execution_count": 10,
   "metadata": {},
   "outputs": [],
   "source": [
    "import numpy as np\n",
    "from gym import Wrapper\n",
    "from gym.wrappers import GrayScaleObservation, ResizeObservation, FrameStack"
   ]
  },
  {
   "cell_type": "code",
   "execution_count": 11,
   "metadata": {},
   "outputs": [],
   "source": [
    "class SkipFrame(Wrapper):\n",
    "    def __init__(self, env, skip):\n",
    "        super().__init__(env)\n",
    "        self.skip = skip\n",
    "\n",
    "    def step(self, action):\n",
    "        total_reward = 0.0\n",
    "        done = False\n",
    "        for _ in range(self.skip):\n",
    "            next_state, reward, done, trunc, info = self.env.step(action)\n",
    "            total_reward += reward\n",
    "            if done:\n",
    "                break\n",
    "        return next_state, total_reward, done, trunc, info"
   ]
  },
  {
   "cell_type": "code",
   "execution_count": 12,
   "metadata": {},
   "outputs": [],
   "source": [
    "def apply_wrappers(env):\n",
    "    env = SkipFrame(env, skip=4)\n",
    "    env = ResizeObservation(env, shape=(128, 128))\n",
    "    return env"
   ]
  },
  {
   "cell_type": "code",
   "execution_count": 13,
   "metadata": {},
   "outputs": [],
   "source": [
    "env = apply_wrappers(env)"
   ]
  },
  {
   "cell_type": "code",
   "execution_count": 14,
   "metadata": {},
   "outputs": [
    {
     "data": {
      "text/plain": [
       "(128, 128, 3)"
      ]
     },
     "execution_count": 14,
     "metadata": {},
     "output_type": "execute_result"
    }
   ],
   "source": [
    "env.observation_space.shape"
   ]
  },
  {
   "cell_type": "code",
   "execution_count": 15,
   "metadata": {},
   "outputs": [],
   "source": [
    "import matplotlib.pyplot as plt"
   ]
  },
  {
   "cell_type": "code",
   "execution_count": 16,
   "metadata": {},
   "outputs": [
    {
     "data": {
      "text/plain": [
       "<matplotlib.image.AxesImage at 0x1c5e32022f0>"
      ]
     },
     "execution_count": 16,
     "metadata": {},
     "output_type": "execute_result"
    },
    {
     "data": {
      "image/png": "[encoded data removed]",
      "text/plain": [
       "<Figure size 640x480 with 1 Axes>"
      ]
     },
     "metadata": {},
     "output_type": "display_data"
    }
   ],
   "source": [
    "state, _ = env.reset()\n",
    "env.close()\n",
    "plt.imshow(state)"
   ]
  },
  {
   "cell_type": "code",
   "execution_count": 17,
   "metadata": {},
   "outputs": [],
   "source": [
    "import torch\n",
    "from torch import nn\n",
    "import numpy as np"
   ]
  },
  {
   "cell_type": "code",
   "execution_count": 18,
   "metadata": {},
   "outputs": [],
   "source": [
    "class AgentNN(nn.Module):\n",
    "    def __init__(self, input_shape, n_actions, freeze=False):\n",
    "        super().__init__()\n",
    "        self.conv_layers = nn.Sequential(\n",
    "            # input_shape[0] gives number of in-channels (it is 4 for us)\n",
    "            nn.Conv2d(input_shape[0], 32, kernel_size=3, stride=4),\n",
    "            nn.ReLU(),\n",
    "            nn.Conv2d(32, 32, kernel_size=3, stride=2, padding=1),\n",
    "            nn.ReLU(),\n",
    "            nn.Conv2d(32, 32, kernel_size=3, stride=2, padding=1),\n",
    "            nn.ReLU(),\n",
    "            nn.Conv2d(32, 32, kernel_size=3, stride=2, padding=1),\n",
    "            nn.ReLU()\n",
    "        )\n",
    "\n",
    "        conv_out_size = self._get_conv_out(input_shape)\n",
    "\n",
    "        self.network = nn.Sequential(\n",
    "            self.conv_layers,\n",
    "            nn.Flatten(),\n",
    "            nn.Linear(conv_out_size, 512),\n",
    "            nn.ReLU(),\n",
    "            nn.Linear(512, n_actions)\n",
    "        )\n",
    "\n",
    "        if freeze:\n",
    "            self._freeze()\n",
    "\n",
    "        self.device = \"cuda\" if torch.cuda.is_available() else \"cpu\"\n",
    "        self.to(self.device)\n",
    "\n",
    "    def _get_conv_out(self, shape): # to output shape of conv_layers\n",
    "        o = self.conv_layers(torch.zeros(1, *shape))\n",
    "        return int(np.prod(o.size()))\n",
    "    \n",
    "    def _freeze(self):\n",
    "        for p in self.network.parameters():\n",
    "            p.requires_grad = False\n",
    "\n",
    "    def forward(self, x):\n",
    "        return self.network(x)"
   ]
  },
  {
   "cell_type": "code",
   "execution_count": 19,
   "metadata": {},
   "outputs": [],
   "source": [
    "# ! pip install tensordict"
   ]
  },
  {
   "cell_type": "code",
   "execution_count": 20,
   "metadata": {},
   "outputs": [],
   "source": [
    "# ! pip install torchrl"
   ]
  },
  {
   "cell_type": "code",
   "execution_count": 1,
   "metadata": {},
   "outputs": [],
   "source": [
    "from tensordict import TensorDict\n",
    "from torchrl.data import TensorDictReplayBuffer, LazyMemmapStorage"
   ]
  },
  {
   "cell_type": "code",
   "execution_count": 22,
   "metadata": {},
   "outputs": [],
   "source": [
    "class Agent:\n",
    "    def __init__(self, input_dims, num_acitons):\n",
    "        self.num_actions = num_acitons\n",
    "        self.learning_step_counter = 0\n",
    "\n",
    "        # Hyper parameters\n",
    "        self.lr = 0.001\n",
    "        self.gamma = 0.9 # discount factor\n",
    "        self.epsilon = 1.0\n",
    "        self.eps_decay = 0.995\n",
    "        self.eps_min = 0.1\n",
    "        self.batch_size = 32\n",
    "        self.sync_network_rate = 5_000\n",
    "\n",
    "        # Networks\n",
    "        self.online_network = AgentNN(input_dims, num_acitons)\n",
    "        self.target_network = AgentNN(input_dims, num_acitons, freeze=True)\n",
    "\n",
    "        # Optimizer and loss\n",
    "        self.optimizer = torch.optim.Adam(self.online_network.parameters(), lr=self.lr)\n",
    "        self.loss = torch.nn.MSELoss()\n",
    "\n",
    "        # Replay buffer\n",
    "        replay_buffer_capacity = 25000\n",
    "        storage = LazyMemmapStorage(replay_buffer_capacity)\n",
    "        self.replay_buffer = TensorDictReplayBuffer(storage=storage)\n",
    "\n",
    "    def choose_action(self, observation):\n",
    "        if np.random.random() < self.epsilon:\n",
    "            return np.random.randint(self.num_actions)\n",
    "        observation = torch.tensor(np.array(observation), dtype=torch.float32).unsqueeze(0).to(self.online_network.device)\n",
    "        return self.online_network(observation).argmax().item()\n",
    "    \n",
    "    def decay_epsilon(self):\n",
    "        self.epsilon = max(self.epsilon * self.eps_decay, self.eps_min)\n",
    "\n",
    "    def store_in_memory(self, state, action, reward, next_state, done):\n",
    "        self.replay_buffer.add(TensorDict({\n",
    "            \"state\": torch.tensor(np.array(state), dtype=torch.float32),\n",
    "            \"action\": torch.tensor(action),\n",
    "            \"reward\": torch.tensor(reward),\n",
    "            \"next_state\": torch.tensor(np.array(next_state), dtype=torch.float32),\n",
    "            \"done\": torch.tensor(done)\n",
    "        }, batch_size=[]))\n",
    "\n",
    "\n",
    "    def sync_networks(self):\n",
    "        if self.learning_step_counter % self.sync_network_rate == 0 and self.learning_step_counter > 0:\n",
    "            self.target_network.load_state_dict(self.online_network.state_dict())\n",
    "\n",
    "    def learn(self):\n",
    "        if len(self.replay_buffer) < self.batch_size:\n",
    "            return\n",
    "        \n",
    "        self.sync_networks()\n",
    "\n",
    "        self.optimizer.zero_grad()\n",
    "\n",
    "        samples = self.replay_buffer.sample(self.batch_size).to(self.online_network.device)\n",
    "\n",
    "        keys = (\"state\", \"action\", \"reward\", \"next_state\", \"done\")\n",
    "\n",
    "        states, actions, rewards, next_states, dones = [samples[key] for key in keys]\n",
    "\n",
    "        predicted_q_values = self.online_network(states)\n",
    "        predicted_q_values = predicted_q_values[np.arange(self.batch_size), actions.squeeze()]\n",
    "\n",
    "        target_q_values = self.target_network(next_states).max(dim=1)[0]\n",
    "        target_q_values = rewards*10 + self.gamma * target_q_values * (1 - dones.float())\n",
    "\n",
    "        loss = self.loss(predicted_q_values, target_q_values)\n",
    "        loss.backward()\n",
    "        self.optimizer.step()\n",
    "\n",
    "        self.learning_step_counter += 1\n",
    "        self.decay_epsilon()\n",
    "\n",
    "    def save_agent(self):\n",
    "        torch.save(self.online_network.state_dict(), \"online_model_2.pth\")\n",
    "        torch.save(self.target_network.state_dict(), \"target_model_2.pth\")\n"
   ]
  },
  {
   "cell_type": "code",
   "execution_count": 23,
   "metadata": {},
   "outputs": [
    {
     "name": "stderr",
     "output_type": "stream",
     "text": [
      "c:\\Users\\manav\\miniconda3\\envs\\ML\\lib\\site-packages\\gym\\envs\\registration.py:555: UserWarning: \u001b[33mWARN: The environment SuperMarioBros-v0 is out of date. You should consider upgrading to version `v3`.\u001b[0m\n",
      "  logger.warn(\n",
      "c:\\Users\\manav\\miniconda3\\envs\\ML\\lib\\site-packages\\gym\\envs\\registration.py:627: UserWarning: \u001b[33mWARN: The environment creator metadata doesn't include `render_modes`, contains: ['render.modes', 'video.frames_per_second']\u001b[0m\n",
      "  logger.warn(\n"
     ]
    }
   ],
   "source": [
    "env_t = gym.make('SuperMarioBros-v0', apply_api_compatibility=True, render_mode=\"human\")\n",
    "env_t = JoypadSpace(env_t, SIMPLE_MOVEMENT)"
   ]
  },
  {
   "cell_type": "code",
   "execution_count": 24,
   "metadata": {},
   "outputs": [],
   "source": [
    "env_t = apply_wrappers(env_t)"
   ]
  },
  {
   "cell_type": "code",
   "execution_count": 25,
   "metadata": {},
   "outputs": [],
   "source": [
    "agent = Agent(input_dims=env_t.observation_space.shape, num_acitons=env_t.action_space.n)"
   ]
  },
  {
   "cell_type": "code",
   "execution_count": 26,
   "metadata": {},
   "outputs": [],
   "source": [
    "# for i in range(50):\n",
    "#     done = False\n",
    "#     state, _ = env_t.reset()\n",
    "#     while not done:\n",
    "#         action = agent.choose_action(state)\n",
    "#         if abs(np.random.random()) * 10 <= 2:\n",
    "#             action = env_t.action_space.sample()\n",
    "#         new_state, reward, done, truncated, info = env_t.step(action)\n",
    "#         agent.store_in_memory(state, action, reward, new_state, done)\n",
    "#         agent.learn()\n",
    "#         state = new_state\n",
    "#     print(i)\n",
    "# agent.save_agent()\n",
    "# env_t.close()"
   ]
  },
  {
   "cell_type": "code",
   "execution_count": 27,
   "metadata": {},
   "outputs": [],
   "source": [
    "env_t = gym.make('SuperMarioBros-v0', apply_api_compatibility=True, render_mode=\"human\")\n",
    "env_t = JoypadSpace(env_t, SIMPLE_MOVEMENT)"
   ]
  },
  {
   "cell_type": "code",
   "execution_count": 28,
   "metadata": {},
   "outputs": [],
   "source": [
    "env_t = apply_wrappers(env_t)"
   ]
  },
  {
   "cell_type": "code",
   "execution_count": 29,
   "metadata": {},
   "outputs": [
    {
     "name": "stderr",
     "output_type": "stream",
     "text": [
      "C:\\Users\\manav\\AppData\\Local\\Temp\\ipykernel_11248\\2831317183.py:2: FutureWarning: You are using `torch.load` with `weights_only=False` (the current default value), which uses the default pickle module implicitly. It is possible to construct malicious pickle data which will execute arbitrary code during unpickling (See https://github.com/pytorch/pytorch/blob/main/SECURITY.md#untrusted-models for more details). In a future release, the default value for `weights_only` will be flipped to `True`. This limits the functions that could be executed during unpickling. Arbitrary objects will no longer be allowed to be loaded via this mode unless they are explicitly allowlisted by the user via `torch.serialization.add_safe_globals`. We recommend you start setting `weights_only=True` for any use case where you don't have full control of the loaded file. Please open an issue on GitHub for any issues related to this experimental feature.\n",
      "  model.load_state_dict(torch.load(\"target_model_2.pth\"))  # Load the saved parameters\n"
     ]
    },
    {
     "data": {
      "text/plain": [
       "<All keys matched successfully>"
      ]
     },
     "execution_count": 29,
     "metadata": {},
     "output_type": "execute_result"
    }
   ],
   "source": [
    "model = AgentNN(env_t.observation_space.shape, env_t.action_space.n)  # Initialize the model architecture\n",
    "model.load_state_dict(torch.load(\"target_model_2.pth\"))  # Load the saved parameters"
   ]
  },
  {
   "cell_type": "code",
   "execution_count": 30,
   "metadata": {},
   "outputs": [],
   "source": [
    "replay_buffer_capacity = 25000\n",
    "storage = LazyMemmapStorage(replay_buffer_capacity)\n",
    "replay_buffer = TensorDictReplayBuffer(storage=storage)"
   ]
  },
  {
   "cell_type": "code",
   "execution_count": 31,
   "metadata": {},
   "outputs": [
    {
     "name": "stderr",
     "output_type": "stream",
     "text": [
      "c:\\Users\\manav\\miniconda3\\envs\\ML\\lib\\site-packages\\gym\\utils\\passive_env_checker.py:233: DeprecationWarning: `np.bool8` is a deprecated alias for `np.bool_`.  (Deprecated NumPy 1.24)\n",
      "  if not isinstance(terminated, (bool, np.bool8)):\n",
      "c:\\Users\\manav\\miniconda3\\envs\\ML\\lib\\site-packages\\gym_super_mario_bros\\smb_env.py:148: RuntimeWarning: overflow encountered in scalar subtract\n",
      "  return (self.ram[0x86] - self.ram[0x071c]) % 256\n"
     ]
    }
   ],
   "source": [
    "state, _ = env_t.reset()\n",
    "for _ in range(50):\n",
    "    done = False\n",
    "    state, _ = env_t.reset()\n",
    "    while not done:\n",
    "        observation = torch.tensor(np.array(state), dtype=torch.float32).unsqueeze(0).to(model.device)\n",
    "        action = model(observation).argmax().item()\n",
    "        if abs(np.random.random()) * 10 <= 2:\n",
    "                action = env_t.action_space.sample()\n",
    "        new_state, reward, done, truncated, info = env_t.step(action)\n",
    "        replay_buffer.add(TensorDict({\n",
    "                \"state\": torch.tensor(np.array(state), dtype=torch.int32).squeeze(0),\n",
    "                \"action\": torch.tensor(action),\n",
    "                \"next_state\": torch.tensor(np.array(state), dtype=torch.int32).squeeze(0),\n",
    "            }, batch_size=[]))\n",
    "        state = new_state\n",
    "env_t.close()"
   ]
  },
  {
   "cell_type": "code",
   "execution_count": 32,
   "metadata": {},
   "outputs": [
    {
     "data": {
      "text/plain": [
       "TensorDictReplayBuffer(\n",
       "    storage=LazyMemmapStorage(\n",
       "        data=TensorDict(\n",
       "            fields={\n",
       "                action: MemoryMappedTensor(shape=torch.Size([22406]), device=cpu, dtype=torch.int64, is_shared=False),\n",
       "                index: MemoryMappedTensor(shape=torch.Size([22406]), device=cpu, dtype=torch.int64, is_shared=False),\n",
       "                next_state: MemoryMappedTensor(shape=torch.Size([22406, 128, 128, 3]), device=cpu, dtype=torch.int32, is_shared=False),\n",
       "                state: MemoryMappedTensor(shape=torch.Size([22406, 128, 128, 3]), device=cpu, dtype=torch.int32, is_shared=False)},\n",
       "            batch_size=torch.Size([22406]),\n",
       "            device=cpu,\n",
       "            is_shared=False), \n",
       "        shape=torch.Size([22406]), \n",
       "        len=22406, \n",
       "        max_size=25000), \n",
       "    sampler=RandomSampler(), \n",
       "    writer=TensorDictRoundRobinWriter(cursor=22406, full_storage=False), \n",
       "    batch_size=None, \n",
       "    collate_fn=<function _collate_id at 0x000001C592C5BF40>)"
      ]
     },
     "execution_count": 32,
     "metadata": {},
     "output_type": "execute_result"
    }
   ],
   "source": [
    "replay_buffer"
   ]
  },
  {
   "cell_type": "code",
   "execution_count": 33,
   "metadata": {},
   "outputs": [],
   "source": [
    "path = \"buffer.pt\""
   ]
  },
  {
   "cell_type": "code",
   "execution_count": 34,
   "metadata": {},
   "outputs": [],
   "source": [
    "replay_buffer.dump(path)"
   ]
  },
  {
   "cell_type": "code",
   "execution_count": 35,
   "metadata": {},
   "outputs": [],
   "source": [
    "rb = TensorDictReplayBuffer(storage=storage)"
   ]
  },
  {
   "cell_type": "code",
   "execution_count": 36,
   "metadata": {},
   "outputs": [],
   "source": [
    "rb.load(path)"
   ]
  },
  {
   "cell_type": "code",
   "execution_count": 37,
   "metadata": {},
   "outputs": [
    {
     "data": {
      "text/plain": [
       "TensorDictReplayBuffer(\n",
       "    storage=LazyMemmapStorage(\n",
       "        data=TensorDict(\n",
       "            fields={\n",
       "                action: MemoryMappedTensor(shape=torch.Size([22406]), device=cpu, dtype=torch.int64, is_shared=False),\n",
       "                index: MemoryMappedTensor(shape=torch.Size([22406]), device=cpu, dtype=torch.int64, is_shared=False),\n",
       "                next_state: MemoryMappedTensor(shape=torch.Size([22406, 128, 128, 3]), device=cpu, dtype=torch.int32, is_shared=False),\n",
       "                state: MemoryMappedTensor(shape=torch.Size([22406, 128, 128, 3]), device=cpu, dtype=torch.int32, is_shared=False)},\n",
       "            batch_size=torch.Size([22406]),\n",
       "            device=cpu,\n",
       "            is_shared=False), \n",
       "        shape=torch.Size([22406]), \n",
       "        len=22406, \n",
       "        max_size=25000), \n",
       "    sampler=RandomSampler(), \n",
       "    writer=TensorDictRoundRobinWriter(cursor=22406, full_storage=False), \n",
       "    batch_size=None, \n",
       "    collate_fn=<function _collate_id at 0x000001C592C5BF40>)"
      ]
     },
     "execution_count": 37,
     "metadata": {},
     "output_type": "execute_result"
    }
   ],
   "source": [
    "rb"
   ]
  }
 ],
 "metadata": {
  "kernelspec": {
   "display_name": "ML",
   "language": "python",
   "name": "python3"
  },
  "language_info": {
   "codemirror_mode": {
    "name": "ipython",
    "version": 3
   },
   "file_extension": ".py",
   "mimetype": "text/x-python",
   "name": "python",
   "nbconvert_exporter": "python",
   "pygments_lexer": "ipython3",
   "version": "3.10.13"
  }
 },
 "nbformat": 4,
 "nbformat_minor": 2
}
